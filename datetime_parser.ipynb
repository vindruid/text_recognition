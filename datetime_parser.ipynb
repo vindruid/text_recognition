{
 "cells": [
  {
   "cell_type": "code",
   "execution_count": 1,
   "metadata": {},
   "outputs": [],
   "source": [
    "import dateparser"
   ]
  },
  {
   "cell_type": "code",
   "execution_count": 2,
   "metadata": {},
   "outputs": [],
   "source": [
    "def get_datetime(text_input, parse_by = 'word'): \n",
    "    text_input = str(text_input)\n",
    "    parsed = dateparser.parse(text_input)\n",
    "    if parsed: \n",
    "        return text_input.strip(), parsed\n",
    "    \n",
    "    if parse_by == 'character': # slower but detail\n",
    "        for len_ in reversed(range(4, len(text_input))):\n",
    "            for step_ in range(0, len(text_input) - len_ + 1): \n",
    "                text_part = text_input[step_:step_ + len_]\n",
    "                parsed = dateparser.parse(text_part)\n",
    "                if parsed: \n",
    "                    return text_part.strip(), parsed\n",
    "    \n",
    "    elif parse_by == 'word': # faster\n",
    "        text_splited = text_input.split()\n",
    "        for len_ in reversed(range(1, len(text_splited))): \n",
    "            for step_ in range(0, len(text_splited) - len_ + 1):\n",
    "                text_part = ' '.join(text_splited[step_:step_ + len_])\n",
    "                parsed = dateparser.parse(text_part)\n",
    "                if parsed: \n",
    "                    return text_part.strip(), parsed\n",
    "\n",
    "    return None, None\n",
    "        "
   ]
  },
  {
   "cell_type": "code",
   "execution_count": 3,
   "metadata": {},
   "outputs": [
    {
     "data": {
      "text/plain": [
       "('21:15:03 2017 agustus 20', datetime.datetime(2017, 8, 20, 21, 15, 3))"
      ]
     },
     "execution_count": 3,
     "metadata": {},
     "output_type": "execute_result"
    }
   ],
   "source": [
    "get_datetime('21:15:03 2017 agustus 20')"
   ]
  },
  {
   "cell_type": "code",
   "execution_count": 4,
   "metadata": {},
   "outputs": [
    {
     "data": {
      "text/plain": [
       "('Tanggal 3 Maret 7 EST pm',\n",
       " datetime.datetime(2018, 3, 3, 19, 0, tzinfo=<StaticTzInfo 'EST'>))"
      ]
     },
     "execution_count": 4,
     "metadata": {},
     "output_type": "execute_result"
    }
   ],
   "source": [
    "get_datetime('zxcvasdasd : Tanggal 3 Maret 7 EST pm')"
   ]
  },
  {
   "cell_type": "code",
   "execution_count": 5,
   "metadata": {},
   "outputs": [
    {
     "data": {
      "text/plain": [
       "('Thu Oct 12 2017 12:07:00 GMT+0700 (DST)',\n",
       " datetime.datetime(2017, 10, 12, 12, 7, tzinfo=<StaticTzInfo 'UTC\\+07:00'>))"
      ]
     },
     "execution_count": 5,
     "metadata": {},
     "output_type": "execute_result"
    }
   ],
   "source": [
    "get_datetime('Thu Oct 12 2017 12:07:00 GMT+0700 (DST)')"
   ]
  },
  {
   "cell_type": "code",
   "execution_count": null,
   "metadata": {},
   "outputs": [],
   "source": []
  }
 ],
 "metadata": {
  "kernelspec": {
   "display_name": "Python 3",
   "language": "python",
   "name": "python3"
  },
  "language_info": {
   "codemirror_mode": {
    "name": "ipython",
    "version": 3
   },
   "file_extension": ".py",
   "mimetype": "text/x-python",
   "name": "python",
   "nbconvert_exporter": "python",
   "pygments_lexer": "ipython3",
   "version": "3.6.3"
  }
 },
 "nbformat": 4,
 "nbformat_minor": 2
}
